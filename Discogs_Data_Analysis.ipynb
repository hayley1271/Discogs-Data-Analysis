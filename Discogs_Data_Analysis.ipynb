{
  "nbformat": 4,
  "nbformat_minor": 0,
  "metadata": {
    "colab": {
      "name": "Discogs Data Analysis",
      "provenance": [],
      "collapsed_sections": []
    },
    "kernelspec": {
      "name": "python3",
      "display_name": "Python 3"
    }
  },
  "cells": [
    {
      "cell_type": "markdown",
      "metadata": {
        "id": "WbDKG62JmnR0",
        "colab_type": "text"
      },
      "source": [
        "# **Discogs Data Analysis**\n",
        "\n",
        "This notebook analyzes the newest item listings on the Discogs Marketplace and compares them with their average prices in hopes of answering the question: is there a significant difference these listed prices and their average prices? \n",
        "\n",
        "This notebook doesn't explore the decisions behind a buyer's decision to buy or not buy a particular record, but it instead looks at any given listing on the Marketplace and sees if they're valued reasonably to other similar listings for that particular item. \n",
        "\n",
        "---"
      ]
    },
    {
      "cell_type": "markdown",
      "metadata": {
        "id": "-6HZODJlngBi",
        "colab_type": "text"
      },
      "source": [
        "# Setting up\n",
        "\n",
        "Installing the client package, importing other packages, authenticating Discogs user to send API requests\n",
        "\n",
        "Request Token URL: \thttps://api.discogs.com/oauth/request_token\n",
        "\n",
        "Authorize URL: \thttps://www.discogs.com/oauth/authorize\n",
        "\n",
        "Access Token URL: \thttps://api.discogs.com/oauth/access_token"
      ]
    },
    {
      "cell_type": "code",
      "metadata": {
        "id": "MgZNqhuv2mKg",
        "colab_type": "code",
        "outputId": "38eece0a-60ac-4263-c3f3-69935354a06b",
        "colab": {
          "base_uri": "https://localhost:8080/",
          "height": 291
        }
      },
      "source": [
        "!pip install discogs_client"
      ],
      "execution_count": 0,
      "outputs": [
        {
          "output_type": "stream",
          "text": [
            "Collecting discogs_client\n",
            "  Downloading https://files.pythonhosted.org/packages/80/73/4f2e9180b9b2d2033d11c343f4d475452bed2512174c8691289e42d4720c/discogs-client-2.2.2.tar.gz\n",
            "Requirement already satisfied: requests in /usr/local/lib/python3.6/dist-packages (from discogs_client) (2.23.0)\n",
            "Requirement already satisfied: six in /usr/local/lib/python3.6/dist-packages (from discogs_client) (1.12.0)\n",
            "Requirement already satisfied: oauthlib in /usr/local/lib/python3.6/dist-packages (from discogs_client) (3.1.0)\n",
            "Requirement already satisfied: certifi>=2017.4.17 in /usr/local/lib/python3.6/dist-packages (from requests->discogs_client) (2020.4.5.1)\n",
            "Requirement already satisfied: idna<3,>=2.5 in /usr/local/lib/python3.6/dist-packages (from requests->discogs_client) (2.9)\n",
            "Requirement already satisfied: chardet<4,>=3.0.2 in /usr/local/lib/python3.6/dist-packages (from requests->discogs_client) (3.0.4)\n",
            "Requirement already satisfied: urllib3!=1.25.0,!=1.25.1,<1.26,>=1.21.1 in /usr/local/lib/python3.6/dist-packages (from requests->discogs_client) (1.24.3)\n",
            "Building wheels for collected packages: discogs-client\n",
            "  Building wheel for discogs-client (setup.py) ... \u001b[?25l\u001b[?25hdone\n",
            "  Created wheel for discogs-client: filename=discogs_client-2.2.2-cp36-none-any.whl size=12171 sha256=5cae654fd6e7943f9f3d03ff73c8ce1a0bbc80018e763d96df3be142737fd309\n",
            "  Stored in directory: /root/.cache/pip/wheels/19/a4/51/f48085cd2748dfdf2e5ec9cb445687e58001022cb66c359bdb\n",
            "Successfully built discogs-client\n",
            "Installing collected packages: discogs-client\n",
            "Successfully installed discogs-client-2.2.2\n"
          ],
          "name": "stdout"
        }
      ]
    },
    {
      "cell_type": "code",
      "metadata": {
        "id": "ekjTjzbQzuab",
        "colab_type": "code",
        "colab": {}
      },
      "source": [
        "#!/usr/bin/env python\n",
        "#\n",
        "# This illustrates the call-flow required to complete an OAuth request\n",
        "# against the discogs.com API, using the discogs_client libary.\n",
        "# The script will download and save a single image and perform and\n",
        "# an API search API as an example. See README.md for further documentation.\n",
        "\n",
        "import sys\n",
        "import discogs_client\n",
        "from discogs_client.exceptions import HTTPError\n",
        "\n",
        "import requests\n",
        "from bs4 import BeautifulSoup\n",
        "from scipy import stats\n",
        "import seaborn as sns\n",
        "import warnings\n",
        "from matplotlib import pyplot as plt \n",
        "\n",
        "warnings.filterwarnings('ignore')\n",
        "sns.set()\n",
        "\n",
        "# Your consumer key and consumer secret generated and provided by Discogs.\n",
        "# See http://www.discogs.com/settings/developers . These credentials\n",
        "# are assigned by application and remain static for the lifetime of your discogs\n",
        "# application. the consumer details below were generated for the\n",
        "# 'discogs-oauth-example' application.\n",
        "# NOTE: these keys are typically kept SECRET. I have requested these for\n",
        "# demonstration purposes.\n",
        "\n",
        "# SECRET CONUMER KEYS UNIQUE TO DATA ANALYIS APP\n",
        "print('Discogs user hayleyhayleyb is the only person with access to the consumer and consumer secret keys.')\n",
        "consumer_key = input('Consumer key: ')\n",
        "consumer_secret = input('Consumer secret key: ')\n",
        "\n",
        "# A user-agent is required with Discogs API requests. Be sure to make your\n",
        "# user-agent unique, or you may get a bad response.\n",
        "user_agent = 'Discogs User hayleyhayleyb\\'s Data Analysis'\n",
        "\n",
        "# instantiate our discogs_client object.\n",
        "discogsclient = discogs_client.Client(user_agent)\n",
        "\n",
        "# prepare the client with our API consumer data.\n",
        "discogsclient.set_consumer_key(consumer_key, consumer_secret)\n",
        "token, secret, url = discogsclient.get_authorize_url()\n",
        "\n",
        "print (' == Request Token == ')\n",
        "print ('    * oauth_token        = {0}'.format(token))\n",
        "print ('    * oauth_token_secret = {0}'.format(secret))\n",
        "\n",
        "# Prompt your user to \"accept\" the terms of your application. The application\n",
        "# will act on behalf of their discogs.com account.\n",
        "# If the user accepts, discogs displays a key to the user that is used for\n",
        "# verification. The key is required in the 2nd phase of authentication.\n",
        "print ('Please browse to the following URL {0}'.format(url))\n",
        "\n",
        "accepted = 'n'\n",
        "while accepted.lower() == 'n':\n",
        "    print\n",
        "    accepted = input('Have you authorized me at {0} [y/n] :'.format(url))\n",
        "\n",
        "\n",
        "# Waiting for user input. Here they must enter the verifier key that was\n",
        "# provided at the unqiue URL generated above.\n",
        "oauth_verifier = input('Verification code :')\n",
        "\n",
        "try:\n",
        "    access_token, access_secret = discogsclient.get_access_token(oauth_verifier)\n",
        "except HTTPError:\n",
        "    print ('Unable to authenticate.')\n",
        "    sys.exit(1)\n",
        "\n",
        "# fetch the identity object for the current logged in user.\n",
        "user = discogsclient.identity()\n",
        "\n",
        "print (' == User ==')\n",
        "print ('    * username           = {0}'.format(user.username))\n",
        "print ('    * name               = {0}'.format(user.name))\n",
        "print (' == Access Token ==')\n",
        "print ('    * oauth_token        = {0}'.format(access_token))\n",
        "print ('    * oauth_token_secret = {0}'.format(access_secret))\n",
        "print (' Authentication complete. Future requests will be signed with the above tokens.')"
      ],
      "execution_count": 0,
      "outputs": []
    },
    {
      "cell_type": "markdown",
      "metadata": {
        "id": "1rFCWl34-ucA",
        "colab_type": "text"
      },
      "source": [
        "# Web scraping the Marketplace listings\n",
        "\n",
        "Search through the Discogs Marketplace to get the price of the 25 most recent listings\n",
        "\n",
        "Get a dictionary `price_list` of key identifying information describing each item"
      ]
    },
    {
      "cell_type": "code",
      "metadata": {
        "id": "XirH90Dk-vBd",
        "colab_type": "code",
        "outputId": "dd4ac0be-1427-4874-c136-2e8780fca9f1",
        "colab": {
          "base_uri": "https://localhost:8080/",
          "height": 34
        }
      },
      "source": [
        "# this code block gets the HTML of the entire listings webpage\n",
        "url = 'https://www.discogs.com/sell/list'\n",
        "response = requests.get(url)\n",
        "data = response.text\n",
        "soup = BeautifulSoup(data, 'html.parser')\n",
        "# print(soup.prettify())\n",
        "print('done')"
      ],
      "execution_count": 0,
      "outputs": [
        {
          "output_type": "stream",
          "text": [
            "done\n"
          ],
          "name": "stdout"
        }
      ]
    },
    {
      "cell_type": "code",
      "metadata": {
        "id": "0Wco3iYr3ejs",
        "colab_type": "code",
        "colab": {}
      },
      "source": [
        "# returns the total price of an item in USD\n",
        "# up to 3 lines in an item's listing: listed price, shipping info, {total price}\n",
        "# listed price = USD or other currency\n",
        "# shipping info = flat or calculated\n",
        "# {total price} = calculated or estimated calculation or not given\n",
        "\n",
        "# returns numerical value for total price given a certain item\n",
        "def total_price(row):\n",
        "  total = ''\n",
        "  converted_price = ''\n",
        "  listed_price = row.find('span', class_='price')\n",
        "\n",
        "  # handling all possible currency formats and styles\n",
        "  if listed_price.get_text()[0] == '$': # cases for usd\n",
        "    shipping_price = row.find('span', class_='item_shipping')\n",
        "    if '$' in shipping_price.get_text():  # if USD and has flat rate shipping\n",
        "      total = row.find('span', class_='converted_price').get_text()[13:-6]\n",
        "    else:   # if USD and variable shipping rate\n",
        "      total = listed_price.get_text()[1:]\n",
        "  else:                                 # cases for other currency\n",
        "    shipping_price = row.find('span', class_='hide_mobile')\n",
        "    try:  # for international flat rate shipping, then the total will just be the converted price\n",
        "      shipping_price.get_text()\n",
        "      converted_price = row.find('span', class_='converted_price')\n",
        "      total = converted_price.get_text()[18:-6]\n",
        "    except AttributeError:  # for international variable rate shipping, total is estimated converted price and shipping\n",
        "      converted_price = row.find('span', class_='converted_price')\n",
        "      total = converted_price.get_text()[7:]\n",
        "\n",
        "  try:\n",
        "    total = float(total)\n",
        "  except:\n",
        "    total = total.split('.')\n",
        "    total = total[0][1:] + total[1]\n",
        "    total = float(total)\n",
        "  return total"
      ],
      "execution_count": 0,
      "outputs": []
    },
    {
      "cell_type": "code",
      "metadata": {
        "id": "jXJmFHseAS7x",
        "colab_type": "code",
        "outputId": "c4a07065-1ec4-4639-efa2-1e82edec59d9",
        "colab": {
          "base_uri": "https://localhost:8080/",
          "height": 466
        }
      },
      "source": [
        "# extracts key identifying information from each listing\n",
        "main_page = soup.find('div', class_='aside_off_canvas') # from the main body of the webpage,\n",
        "content = main_page.find('div', id='page_content')\n",
        "main_table = content.find('table', class_='mpitems')\n",
        "table = main_table.find('tbody')\n",
        "items = table.find_all('tr', class_='shortcut_navigable') # find the table of the listings\n",
        "\n",
        "price_list = {} # key=label and catno : value=[label, catno, title, total_price]\n",
        "for row in items:\n",
        "  names = row.find('a', class_='item_description_title')\n",
        "\n",
        "  label_cat = row.find('p', class_='label_and_cat')\n",
        "  cat_num = label_cat.find('span', class_='item_catno')\n",
        "  label = label_cat.find('a')\n",
        "  search_item = label.get_text() + ' ' + cat_num.get_text()\n",
        "\n",
        "  prices = row.find('td', class_='item_price')\n",
        "  price_selling = prices.find('span', class_='price')\n",
        "\n",
        "  total = total_price(prices)\n",
        "\n",
        "  # code block outputs this price_list dictionary\n",
        "  price_list[search_item] = [label.get_text(), cat_num.get_text(), names.get_text(), total]\n",
        "\n",
        "# looks at the newest listings from the Marketplace and extracts category number and selling price for each item\n",
        "for i in price_list:\n",
        "  print(i, '\\t\\t', price_list[i])"
      ],
      "execution_count": 0,
      "outputs": [
        {
          "output_type": "stream",
          "text": [
            "Blue Note TOCJ-8544 \t\t ['Blue Note', 'TOCJ-8544', 'Johnny Griffin - Introducing Johnny Griffin (CD, Album, Mono, Ltd, RE, RM)', 83.03]\n",
            "Virgin 613 232 \t\t ['Virgin', '613 232', 'Azra (2) - Only Love Can Help (12\")', 19.47]\n",
            "Chiaroscuro Records CR-171 \t\t ['Chiaroscuro Records', 'CR-171', 'Bob Wilber And The Scott Hamilton Quartet - Bob Wilber And The Scott Hamilton Quartet (LP, Album)', 8.98]\n",
            "Peaceville CDVILEF403 \t\t ['Peaceville', 'CDVILEF403', 'Katatonia - Dead End Kings (CD, Album, O-C)', 8.73]\n",
            "Island Records ILPS 9801 \t\t ['Island Records', 'ILPS 9801', 'Robert Palmer - Riptide (LP, Album)', 46.91]\n",
            "Noise Records N 0325-2 \t\t ['Noise Records', 'N 0325-2', 'Celtic Frost - Morbid Tales (CD, Album, RE, RM)', 19.64]\n",
            "Underyourskin Records UYSR035 \t\t ['Underyourskin Records', 'UYSR035', 'Crussen - Breakfast In The Hut EP (12\", EP)', 16.36]\n",
            "Finders Keepers Records FKR048LP \t\t ['Finders Keepers Records', 'FKR048LP', 'Don Gere - Werewolves On Wheels (Original Motion Picture Soundtrack) (LP, Album, Red)', 49.99]\n",
            "One Way Special 2-WAY \t\t ['One Way Special', '2-WAY', 'Unknown Artist - Just The Two Of Us (12\", Promo)', 25.05]\n",
            "Cotillion MR-086 \t\t ['Cotillion', 'MR-086', 'Slave - Watching You / Just A Touch Of Love (12\", RE)', 8.99]\n",
            "RAS Records Inc. RASMP 3156 \t\t ['RAS Records Inc.', 'RASMP 3156', 'Sizzla - Burning Up (CD, Album)', 3.82]\n",
            "Columbia 88875120971 \t\t ['Columbia', '88875120971', 'Various - Top Gun (Original Motion Picture Soundtrack) (LP, Album, Ltd, Red)', 29.99]\n",
            "Tippermusic TIPP004V \t\t ['Tippermusic', 'TIPP004V', 'Tipper - Unlock The Geometry / Deal With It (12\")', 61.73]\n",
            "Cinetic Art CINETICART0-01 \t\t ['Cinetic Art', 'CINETICART0-01', 'Melodie (4) - Now EP (12\", EP)', 13.19]\n",
            "Decca DL 79173 \t\t ['Decca', 'DL 79173', 'Alfred Newman - Airport (LP, Album)', 13.49]\n",
            "BPitch Control BPC 200 CD, BPC 200 \t\t ['BPitch Control', 'BPC 200 CD, BPC 200', 'Moderat - Moderat (CD, Album)', 31.47]\n",
            "Gordy TMG 1309 \t\t ['Gordy', 'TMG 1309', 'Mary Jane Girls - All Night Long (7\", Single)', 9.0]\n",
            "Sargent House SH 127 \t\t ['Sargent House', 'SH 127', 'Chelsea Wolfe - Ἀποκάλυψις (LP, Album, RE)', 22.98]\n",
            "Universal Music Group International 0602517546950 \t\t ['Universal Music Group International', '0602517546950', 'Eagles - Long Road Out Of Eden (2xLP, Album, Gat)', 44.99]\n",
            "A&M Records CD 5145 \t\t ['A&M Records', 'CD 5145', 'Iggy Pop - Blah-Blah-Blah (CD, Album, RE)', 14.18]\n",
            "Ariola 601 054 \t\t ['Ariola', '601 054', 'Imagination - New Dimension (12\", Maxi)', 2.17]\n",
            "ABC-Paramount 10644 \t\t ['ABC-Paramount', '10644', 'Fats Domino - Let Me Call You Sweetheart (7\", Single)', 1.99]\n",
            "ATCO Records 756791758-2 \t\t ['ATCO Records', '756791758-2', 'Pantera - Vulgar Display Of Power (CD, Album, RE)', 12.9]\n",
            "Injection Disco Dance Label 234.839 \t\t ['Injection Disco Dance Label', '234.839', 'Angie Dylan - Love On The Rebound (12\")', 15.27]\n",
            "Alien8 Recordings aliencd53 \t\t ['Alien8 Recordings', 'aliencd53', 'Various - Blank Field (CD, Comp)', 18.49]\n"
          ],
          "name": "stdout"
        }
      ]
    },
    {
      "cell_type": "code",
      "metadata": {
        "id": "dSVGPiHw0vcQ",
        "colab_type": "code",
        "outputId": "4dcef923-8e02-410f-ed48-819c18a81bf0",
        "colab": {
          "base_uri": "https://localhost:8080/",
          "height": 336
        }
      },
      "source": [
        "# create a distribution plot of the prices of the new listings\n",
        "# prices usually average anywhere between $0-$100 \n",
        "prices = []\n",
        "for i in price_list:\n",
        "  prices.append(price_list[i][3])\n",
        "\n",
        "fig = plt.figure()\n",
        "plt.hist(prices)\n",
        "fig.suptitle('Marketplace Prices', fontsize=20) \n",
        "plt.xlabel('Price', fontsize=18) \n",
        "plt.ylabel('Frequency of Price', fontsize=16)\n",
        "\n",
        "# AT LEAST ONE VISUALIZATION"
      ],
      "execution_count": 0,
      "outputs": [
        {
          "output_type": "execute_result",
          "data": {
            "text/plain": [
              "Text(0, 0.5, 'Frequency of price')"
            ]
          },
          "metadata": {
            "tags": []
          },
          "execution_count": 28
        },
        {
          "output_type": "display_data",
          "data": {
            "image/png": "[encoded data removed]",
            "text/plain": [
              "<Figure size 432x288 with 1 Axes>"
            ]
          },
          "metadata": {
            "tags": []
          }
        }
      ]
    },
    {
      "cell_type": "markdown",
      "metadata": {
        "id": "Z36iLOxaEHFV",
        "colab_type": "text"
      },
      "source": [
        "# Run a search through each newly listed item in the marketplace\n",
        "Use search keywords from `price_list` to extract `ReleaseID`s\n",
        "\n",
        "Get a dictionary of lists, `release_dict` where the key is `ReleaseID` and the value is a list that retain the search keywords from the last codeblock"
      ]
    },
    {
      "cell_type": "code",
      "metadata": {
        "id": "in_vM0UKFJRC",
        "colab_type": "code",
        "outputId": "b852d29d-f36e-415f-cd0c-d8e4052af75f",
        "colab": {
          "base_uri": "https://localhost:8080/",
          "height": 1000
        }
      },
      "source": [
        "# getting a dictionary of release IDs associated with each newly listed marketplace item\n",
        "# release IDs are needed to look for the marketplace's other listings for the same item\n",
        "release_dict = {}\n",
        "for item in price_list: # item is each new listing\n",
        "  # test is MixedPaginatedList, have to iterate through to get attributes\n",
        "  test = discogsclient.search(price_list[item][2],label=price_list[item][0], catno=price_list[item][1], type='release')\n",
        "  for i in test:\n",
        "    #print(i)\n",
        "    release_dict[i.id] = price_list[item]\n",
        "\n",
        "release_dict # releaseID: [label, catno, title, price]"
      ],
      "execution_count": 0,
      "outputs": [
        {
          "output_type": "execute_result",
          "data": {
            "text/plain": [
              "{190510: ['Ariola',\n",
              "  '601 054',\n",
              "  'Imagination - New Dimension (12\", Maxi)',\n",
              "  2.17],\n",
              " 425362: ['Ariola',\n",
              "  '601 054',\n",
              "  'Imagination - New Dimension (12\", Maxi)',\n",
              "  2.17],\n",
              " 457264: ['Gordy',\n",
              "  'TMG 1309',\n",
              "  'Mary Jane Girls - All Night Long (7\", Single)',\n",
              "  9.0],\n",
              " 471426: ['Island Records',\n",
              "  'ILPS 9801',\n",
              "  'Robert Palmer - Riptide (LP, Album)',\n",
              "  46.91],\n",
              " 727603: ['ATCO Records',\n",
              "  '756791758-2',\n",
              "  'Pantera - Vulgar Display Of Power (CD, Album, RE)',\n",
              "  12.9],\n",
              " 750285: ['Decca', 'DL 79173', 'Alfred Newman - Airport (LP, Album)', 13.49],\n",
              " 867103: ['Tippermusic',\n",
              "  'TIPP004V',\n",
              "  'Tipper - Unlock The Geometry / Deal With It (12\")',\n",
              "  61.73],\n",
              " 917229: ['RAS Records Inc.',\n",
              "  'RASMP 3156',\n",
              "  'Sizzla - Burning Up (CD, Album)',\n",
              "  3.82],\n",
              " 1335645: ['Injection Disco Dance Label',\n",
              "  '234.839',\n",
              "  'Angie Dylan - Love On The Rebound (12\")',\n",
              "  15.27],\n",
              " 1450918: ['Island Records',\n",
              "  'ILPS 9801',\n",
              "  'Robert Palmer - Riptide (LP, Album)',\n",
              "  46.91],\n",
              " 1625054: ['Chiaroscuro Records',\n",
              "  'CR-171',\n",
              "  'Bob Wilber And The Scott Hamilton Quartet - Bob Wilber And The Scott Hamilton Quartet (LP, Album)',\n",
              "  8.98],\n",
              " 2173014: ['Virgin', '613 232', 'Azra (2) - Only Love Can Help (12\")', 19.47],\n",
              " 2450241: ['One Way Special',\n",
              "  '2-WAY',\n",
              "  'Unknown Artist - Just The Two Of Us (12\", Promo)',\n",
              "  25.05],\n",
              " 2902963: ['ATCO Records',\n",
              "  '756791758-2',\n",
              "  'Pantera - Vulgar Display Of Power (CD, Album, RE)',\n",
              "  12.9],\n",
              " 3708936: ['Island Records',\n",
              "  'ILPS 9801',\n",
              "  'Robert Palmer - Riptide (LP, Album)',\n",
              "  46.91],\n",
              " 4520524: ['Island Records',\n",
              "  'ILPS 9801',\n",
              "  'Robert Palmer - Riptide (LP, Album)',\n",
              "  46.91],\n",
              " 5420274: ['Island Records',\n",
              "  'ILPS 9801',\n",
              "  'Robert Palmer - Riptide (LP, Album)',\n",
              "  46.91],\n",
              " 5688329: ['Island Records',\n",
              "  'ILPS 9801',\n",
              "  'Robert Palmer - Riptide (LP, Album)',\n",
              "  46.91],\n",
              " 5939305: ['Sargent House',\n",
              "  'SH 127',\n",
              "  'Chelsea Wolfe - Ἀποκάλυψις (LP, Album, RE)',\n",
              "  22.98],\n",
              " 5990612: ['Finders Keepers Records',\n",
              "  'FKR048LP',\n",
              "  'Don Gere - Werewolves On Wheels (Original Motion Picture Soundtrack) (LP, Album, Red)',\n",
              "  49.99],\n",
              " 6009244: ['Sargent House',\n",
              "  'SH 127',\n",
              "  'Chelsea Wolfe - Ἀποκάλυψις (LP, Album, RE)',\n",
              "  22.98],\n",
              " 7233213: ['Island Records',\n",
              "  'ILPS 9801',\n",
              "  'Robert Palmer - Riptide (LP, Album)',\n",
              "  46.91],\n",
              " 8278703: ['ABC-Paramount',\n",
              "  '10644',\n",
              "  'Fats Domino - Let Me Call You Sweetheart (7\", Single)',\n",
              "  1.99],\n",
              " 9064758: ['Underyourskin Records',\n",
              "  'UYSR035',\n",
              "  'Crussen - Breakfast In The Hut EP (12\", EP)',\n",
              "  16.36],\n",
              " 9787085: ['Decca', 'DL 79173', 'Alfred Newman - Airport (LP, Album)', 13.49],\n",
              " 9938503: ['Sargent House',\n",
              "  'SH 127',\n",
              "  'Chelsea Wolfe - Ἀποκάλυψις (LP, Album, RE)',\n",
              "  22.98],\n",
              " 10526434: ['Gordy',\n",
              "  'TMG 1309',\n",
              "  'Mary Jane Girls - All Night Long (7\", Single)',\n",
              "  9.0],\n",
              " 10746991: ['ATCO Records',\n",
              "  '756791758-2',\n",
              "  'Pantera - Vulgar Display Of Power (CD, Album, RE)',\n",
              "  12.9],\n",
              " 10945233: ['Sargent House',\n",
              "  'SH 127',\n",
              "  'Chelsea Wolfe - Ἀποκάλυψις (LP, Album, RE)',\n",
              "  22.98],\n",
              " 11101127: ['Sargent House',\n",
              "  'SH 127',\n",
              "  'Chelsea Wolfe - Ἀποκάλυψις (LP, Album, RE)',\n",
              "  22.98],\n",
              " 12182532: ['Cinetic Art',\n",
              "  'CINETICART0-01',\n",
              "  'Melodie (4) - Now EP (12\", EP)',\n",
              "  13.19],\n",
              " 12716583: ['Decca', 'DL 79173', 'Alfred Newman - Airport (LP, Album)', 13.49],\n",
              " 13302551: ['Gordy',\n",
              "  'TMG 1309',\n",
              "  'Mary Jane Girls - All Night Long (7\", Single)',\n",
              "  9.0],\n",
              " 13452537: ['Island Records',\n",
              "  'ILPS 9801',\n",
              "  'Robert Palmer - Riptide (LP, Album)',\n",
              "  46.91],\n",
              " 15215499: ['ABC-Paramount',\n",
              "  '10644',\n",
              "  'Fats Domino - Let Me Call You Sweetheart (7\", Single)',\n",
              "  1.99]}"
            ]
          },
          "metadata": {
            "tags": []
          },
          "execution_count": 30
        }
      ]
    },
    {
      "cell_type": "markdown",
      "metadata": {
        "id": "7QaXv0tMAYwG",
        "colab_type": "text"
      },
      "source": [
        "# Extract each release's other listings\n",
        "\n",
        "Use the `ReleaseID`s to look through the Marketplace for all other listings of the release, extract price information about the other listings"
      ]
    },
    {
      "cell_type": "code",
      "metadata": {
        "id": "DVmKBF-H1_8x",
        "colab_type": "code",
        "cellView": "code",
        "colab": {}
      },
      "source": [
        "#@title Default title text\n",
        "# web scraping through the release page\n",
        "# want lowest and median prices of past sales\n",
        "# will also want to create an array of all listed prices for t-test\n",
        "# these will be returned in a dictionary\n",
        "\n",
        "def release_page_stats(release_id):\n",
        "  url = 'https://www.discogs.com/sell/release/' + str(release_id)\n",
        "  response = requests.get(url)\n",
        "  data = response.text\n",
        "  soup = BeautifulSoup(data, 'html.parser')\n",
        "  # print(soup.prettify())\n",
        "  \n",
        "  stats_table = soup.find('div', class_='right')\n",
        "  \n",
        "  lists = stats_table.find('div', class_='toggle_section_content')\n",
        "  last_sold = lists.find_all('li')\n",
        "\n",
        "  statistics = {}\n",
        "  for i in last_sold:                         # for each statistic on the top right corner of the release page, get the lowest, median, and highest prices.\n",
        "    item = i.get_text().strip().split('\\n')   # if this release has never been sold before, don't cast it to a float value\n",
        "    if item[0] == 'Lowest:' or item[0] == 'Median:' or item[0] == 'Highest:': # most important attributes of release listing\n",
        "      if '-' not in item[1][17:]:\n",
        "        statistics[item[0][:-1]] = float(item[1][17:])  # values have 16 leading spaces and need to be converted to float\n",
        "      else:\n",
        "        statistics[item[0][:-1]] = item[1][17:] + \"EMPTY\"\n",
        "    \n",
        "    #else:\n",
        "    #  statistics[item[0][:-1]] = item[1]\n",
        "  #statistics['Lowest Current Price:'] = release_stats['lowest_price']['value']\n",
        "\n",
        "  content = soup.find('div', id='page_content')\n",
        "  table = content.find('tbody')\n",
        "  items = table.find_all('tr', class_='shortcut_navigable')\n",
        "\n",
        "  listings_price_list = []\n",
        "  for i in items:\n",
        "    prices = i.find('td', class_='item_price')\n",
        "    total = total_price(prices)\n",
        "    listings_price_list.append(total)\n",
        "  statistics['Other prices'] = listings_price_list\n",
        "  return statistics\n",
        "\n",
        "#stats_dict = release_page_stats(1084479) #testing the function with Loveless CD\n",
        "#stats_dict"
      ],
      "execution_count": 0,
      "outputs": []
    },
    {
      "cell_type": "code",
      "metadata": {
        "id": "Kr-GUITo9e48",
        "colab_type": "code",
        "outputId": "03142d80-216b-48e2-bf02-4222dbb13036",
        "colab": {
          "base_uri": "https://localhost:8080/",
          "height": 285
        }
      },
      "source": [
        "#sns.distplot(stats_dict['Other prices'])\n",
        "\n",
        "for i in release_dict: # iterating through new release list\n",
        "  marketplace_listings = release_page_stats(i)['Other prices']\n",
        "  sns.distplot(marketplace_listings, axlabel='Distribution of Listings\\' Prices') # plot distribution of stats of each new release"
      ],
      "execution_count": 0,
      "outputs": [
        {
          "output_type": "display_data",
          "data": {
            "image/png": "[encoded data removed]",
            "text/plain": [
              "<Figure size 432x288 with 1 Axes>"
            ]
          },
          "metadata": {
            "tags": []
          }
        }
      ]
    },
    {
      "cell_type": "markdown",
      "metadata": {
        "id": "D1zV2fX0qLBf",
        "colab_type": "text"
      },
      "source": [
        "# Run t-tests on the items against their other listings\n",
        "\n",
        "Iterate through the dictionary of releases pulled from the new listings on the Marketplace and run one-sample t-tests on each of them.\n",
        "\n",
        "Most of the releases return very high p-values, suggesting that there is not a significant difference between the listed prices and the prices of their other listings. "
      ]
    },
    {
      "cell_type": "code",
      "metadata": {
        "id": "7jRzf3IyAVh9",
        "colab_type": "code",
        "colab": {}
      },
      "source": [
        "# defining a method for doing one sample t-test\n",
        "def ttesting(mean, array2):\n",
        "  mean_array = []\n",
        "  for i in array2:\n",
        "    mean_array.append(mean)\n",
        "  results = stats.ttest_ind(mean_array, array2)\n",
        "  results_str = str(results).split('=')\n",
        "\n",
        "  if 'nan, pvalue=na' not in str(results):\n",
        "    t_val = float(results_str[1][:4])\n",
        "    p_val = float(results_str[2][:-1])\n",
        "    result = []\n",
        "    result.append(t_val)\n",
        "    result.append(p_val)\n",
        "    return result\n",
        "  else: \n",
        "    return [0, 0]\n",
        "\n",
        "# print(ttesting(6.46, stats_dict['Other prices']))"
      ],
      "execution_count": 0,
      "outputs": []
    },
    {
      "cell_type": "code",
      "metadata": {
        "id": "ZeZGlP8iqsjf",
        "colab_type": "code",
        "outputId": "023dc1a7-35c1-4443-ce30-3f60c0f2c206",
        "colab": {
          "base_uri": "https://localhost:8080/",
          "height": 634
        }
      },
      "source": [
        "# iterating through the dictionary of releaseIDs, getting their respective 'other prices' list and performing the t-test on them\n",
        "\n",
        "all_releases = []\n",
        "temp = {}\n",
        "good = []\n",
        "for i in release_dict:\n",
        "  temp = release_page_stats(i)['Other prices']\n",
        "  all_releases.append(temp)\n",
        "  t_test = ttesting(release_dict[i][3], temp)\n",
        "  if t_test[1] < 0.05:\n",
        "    good.append(i)\n",
        "  print(release_dict[i][3], t_test)\n",
        "\n",
        "print('There are', len(good), 'out of', len(all_releases), 'releases that are significantly different')"
      ],
      "execution_count": 0,
      "outputs": [
        {
          "output_type": "stream",
          "text": [
            "19.47 [2.72, 0.013109259561116762]\n",
            "8.98 [-2.5, 0.014622842284821157]\n",
            "46.91 [20.1, 4.632065029411729e-25]\n",
            "46.91 [9.94, 1.000271807124188e-07]\n",
            "46.91 [23.1, 1.4551295516007611e-12]\n",
            "46.91 [3.43, 0.026433729508436393]\n",
            "46.91 [14.3, 5.786461805775025e-16]\n",
            "46.91 [21.2, 7.064256873945885e-07]\n",
            "46.91 [0, 0]\n",
            "46.91 [0, 0]\n",
            "16.36 [-1.7, 0.16054068395444712]\n",
            "49.99 [-0.9, 0.3604535982328021]\n",
            "25.05 [10.0, 2.2408408159782364e-13]\n",
            "3.82 [-1.7, 0.09994946203787677]\n",
            "61.73 [-0.7, 0.5077845387340859]\n",
            "13.19 [-1.3, 0.18128339375232763]\n",
            "13.49 [6.86, 1.1983363813371501e-08]\n",
            "13.49 [4.49, 0.00014987071298131418]\n",
            "13.49 [-2.3, 0.08186190602743357]\n",
            "9.0 [-4.4, 8.965748061699146e-05]\n",
            "9.0 [0.12, 0.9042622629170529]\n",
            "9.0 [-1.0, 0.3337490917841375]\n",
            "22.98 [-9.3, 7.785392352638503e-07]\n",
            "22.98 [-2.5, 0.01699049976939029]\n",
            "22.98 [-10.0, 0.00044126921375432657]\n",
            "22.98 [0, 0]\n",
            "22.98 [0, 0]\n",
            "2.17 [-2.7, 0.008187846502129222]\n",
            "2.17 [-4.7, 1.8172093507358233e-05]\n",
            "1.99 [0, 0]\n",
            "1.99 [0, 0]\n",
            "12.9 [10.9, 1.1441367008508523e-14]\n",
            "12.9 [-0.2, 0.7922888180948067]\n",
            "12.9 [0, 0]\n",
            "15.27 [-0.3, 0.709942279243224]\n",
            "there are 25 out of 35 releases that are significantly different\n"
          ],
          "name": "stdout"
        }
      ]
    },
    {
      "cell_type": "markdown",
      "metadata": {
        "id": "j7qhS5mIr4yE",
        "colab_type": "text"
      },
      "source": [
        "# Conclusion\n",
        "\n",
        "What does it mean that these releases are significantly different from their average listing prices? It suggests that the listed releases are on average either much higher or much lower than their average valued price. Since the p-values are two-tailed, further analysis would be needed to determine which direction the listings fall out of the range of. \n",
        "\n",
        "---\n",
        "\n",
        "This means that there is generally some fluctuation of values being set on records that is difficult to determine from just looking at the average prices on the market. There appears to be an arbitrary upper limit for the amount that an average person is willing to pay for a record, possibly determined by other factors than just the average price of other records (rarity, condition, year released, etc) that were not analyzed in this notebook. \n",
        "\n",
        "---\n",
        "\n",
        "My recommendation for sellers is to add additional information about these releases to increase their value above average marketplace listings (older, more rare records in mint condition are more highly valued than newer, less rare records in good condition). This will allow buyers across the Marketplace to expect higher quality listings and in turn expect to pay higher prices. "
      ]
    }
  ]
}